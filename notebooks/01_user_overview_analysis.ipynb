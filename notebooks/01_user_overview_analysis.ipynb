{
 "cells": [
  {
   "cell_type": "markdown",
   "metadata": {},
   "source": [
    "# Installing Libraries"
   ]
  },
  {
   "cell_type": "code",
   "execution_count": 1,
   "metadata": {},
   "outputs": [
    {
     "name": "stdout",
     "output_type": "stream",
     "text": [
      "Collecting pandas\n",
      "  Obtaining dependency information for pandas from https://files.pythonhosted.org/packages/fc/a5/4d82be566f069d7a9a702dcdf6f9106df0e0b042e738043c0cc7ddd7e3f6/pandas-2.2.2-cp311-cp311-manylinux_2_17_x86_64.manylinux2014_x86_64.whl.metadata\n",
      "  Using cached pandas-2.2.2-cp311-cp311-manylinux_2_17_x86_64.manylinux2014_x86_64.whl.metadata (19 kB)\n",
      "Collecting matplotlib\n",
      "  Obtaining dependency information for matplotlib from https://files.pythonhosted.org/packages/01/75/6c7ce560e95714a10fcbb3367d1304975a1a3e620f72af28921b796403f3/matplotlib-3.9.2-cp311-cp311-manylinux_2_17_x86_64.manylinux2014_x86_64.whl.metadata\n",
      "  Using cached matplotlib-3.9.2-cp311-cp311-manylinux_2_17_x86_64.manylinux2014_x86_64.whl.metadata (11 kB)\n",
      "Collecting seaborn\n",
      "  Obtaining dependency information for seaborn from https://files.pythonhosted.org/packages/83/11/00d3c3dfc25ad54e731d91449895a79e4bf2384dc3ac01809010ba88f6d5/seaborn-0.13.2-py3-none-any.whl.metadata\n",
      "  Using cached seaborn-0.13.2-py3-none-any.whl.metadata (5.4 kB)\n",
      "Collecting scikit-learn\n",
      "  Obtaining dependency information for scikit-learn from https://files.pythonhosted.org/packages/32/63/ed228892adad313aab0d0f9261241e7bf1efe36730a2788ad424bcad00ca/scikit_learn-1.5.1-cp311-cp311-manylinux_2_17_x86_64.manylinux2014_x86_64.whl.metadata\n",
      "  Using cached scikit_learn-1.5.1-cp311-cp311-manylinux_2_17_x86_64.manylinux2014_x86_64.whl.metadata (12 kB)\n",
      "Collecting numpy>=1.23.2 (from pandas)\n",
      "  Obtaining dependency information for numpy>=1.23.2 from https://files.pythonhosted.org/packages/d9/37/108d692f7e2544b9ae972c7bfa06c26717871c273ccec86470bc3132b04d/numpy-2.1.1-cp311-cp311-manylinux_2_17_x86_64.manylinux2014_x86_64.whl.metadata\n",
      "  Using cached numpy-2.1.1-cp311-cp311-manylinux_2_17_x86_64.manylinux2014_x86_64.whl.metadata (60 kB)\n",
      "Requirement already satisfied: python-dateutil>=2.8.2 in /home/amr/project/10_Acedamy/investment_analysis/.venv/lib/python3.11/site-packages (from pandas) (2.9.0.post0)\n",
      "Collecting pytz>=2020.1 (from pandas)\n",
      "  Obtaining dependency information for pytz>=2020.1 from https://files.pythonhosted.org/packages/9c/3d/a121f284241f08268b21359bd425f7d4825cffc5ac5cd0e1b3d82ffd2b10/pytz-2024.1-py2.py3-none-any.whl.metadata\n",
      "  Using cached pytz-2024.1-py2.py3-none-any.whl.metadata (22 kB)\n",
      "Collecting tzdata>=2022.7 (from pandas)\n",
      "  Obtaining dependency information for tzdata>=2022.7 from https://files.pythonhosted.org/packages/65/58/f9c9e6be752e9fcb8b6a0ee9fb87e6e7a1f6bcab2cdc73f02bb7ba91ada0/tzdata-2024.1-py2.py3-none-any.whl.metadata\n",
      "  Using cached tzdata-2024.1-py2.py3-none-any.whl.metadata (1.4 kB)\n",
      "Collecting contourpy>=1.0.1 (from matplotlib)\n",
      "  Obtaining dependency information for contourpy>=1.0.1 from https://files.pythonhosted.org/packages/03/33/003065374f38894cdf1040cef474ad0546368eea7e3a51d48b8a423961f8/contourpy-1.3.0-cp311-cp311-manylinux_2_17_x86_64.manylinux2014_x86_64.whl.metadata\n",
      "  Using cached contourpy-1.3.0-cp311-cp311-manylinux_2_17_x86_64.manylinux2014_x86_64.whl.metadata (5.4 kB)\n",
      "Collecting cycler>=0.10 (from matplotlib)\n",
      "  Obtaining dependency information for cycler>=0.10 from https://files.pythonhosted.org/packages/e7/05/c19819d5e3d95294a6f5947fb9b9629efb316b96de511b418c53d245aae6/cycler-0.12.1-py3-none-any.whl.metadata\n",
      "  Using cached cycler-0.12.1-py3-none-any.whl.metadata (3.8 kB)\n",
      "Collecting fonttools>=4.22.0 (from matplotlib)\n",
      "  Obtaining dependency information for fonttools>=4.22.0 from https://files.pythonhosted.org/packages/a4/22/0a0ad59d9367997fd74a00ad2e88d10559122e09f105e94d34c155aecc0a/fonttools-4.53.1-cp311-cp311-manylinux_2_17_x86_64.manylinux2014_x86_64.whl.metadata\n",
      "  Using cached fonttools-4.53.1-cp311-cp311-manylinux_2_17_x86_64.manylinux2014_x86_64.whl.metadata (162 kB)\n",
      "Collecting kiwisolver>=1.3.1 (from matplotlib)\n",
      "  Obtaining dependency information for kiwisolver>=1.3.1 from https://files.pythonhosted.org/packages/a7/4b/2db7af3ed3af7c35f388d5f53c28e155cd402a55432d800c543dc6deb731/kiwisolver-1.4.7-cp311-cp311-manylinux_2_17_x86_64.manylinux2014_x86_64.whl.metadata\n",
      "  Using cached kiwisolver-1.4.7-cp311-cp311-manylinux_2_17_x86_64.manylinux2014_x86_64.whl.metadata (6.3 kB)\n",
      "Requirement already satisfied: packaging>=20.0 in /home/amr/project/10_Acedamy/investment_analysis/.venv/lib/python3.11/site-packages (from matplotlib) (24.1)\n",
      "Collecting pillow>=8 (from matplotlib)\n",
      "  Obtaining dependency information for pillow>=8 from https://files.pythonhosted.org/packages/ba/e5/8c68ff608a4203085158cff5cc2a3c534ec384536d9438c405ed6370d080/pillow-10.4.0-cp311-cp311-manylinux_2_28_x86_64.whl.metadata\n",
      "  Using cached pillow-10.4.0-cp311-cp311-manylinux_2_28_x86_64.whl.metadata (9.2 kB)\n",
      "Collecting pyparsing>=2.3.1 (from matplotlib)\n",
      "  Obtaining dependency information for pyparsing>=2.3.1 from https://files.pythonhosted.org/packages/e5/0c/0e3c05b1c87bb6a1c76d281b0f35e78d2d80ac91b5f8f524cebf77f51049/pyparsing-3.1.4-py3-none-any.whl.metadata\n",
      "  Using cached pyparsing-3.1.4-py3-none-any.whl.metadata (5.1 kB)\n",
      "Collecting scipy>=1.6.0 (from scikit-learn)\n",
      "  Obtaining dependency information for scipy>=1.6.0 from https://files.pythonhosted.org/packages/93/6b/701776d4bd6bdd9b629c387b5140f006185bd8ddea16788a44434376b98f/scipy-1.14.1-cp311-cp311-manylinux_2_17_x86_64.manylinux2014_x86_64.whl.metadata\n",
      "  Using cached scipy-1.14.1-cp311-cp311-manylinux_2_17_x86_64.manylinux2014_x86_64.whl.metadata (60 kB)\n",
      "Collecting joblib>=1.2.0 (from scikit-learn)\n",
      "  Obtaining dependency information for joblib>=1.2.0 from https://files.pythonhosted.org/packages/91/29/df4b9b42f2be0b623cbd5e2140cafcaa2bef0759a00b7b70104dcfe2fb51/joblib-1.4.2-py3-none-any.whl.metadata\n",
      "  Using cached joblib-1.4.2-py3-none-any.whl.metadata (5.4 kB)\n",
      "Collecting threadpoolctl>=3.1.0 (from scikit-learn)\n",
      "  Obtaining dependency information for threadpoolctl>=3.1.0 from https://files.pythonhosted.org/packages/4b/2c/ffbf7a134b9ab11a67b0cf0726453cedd9c5043a4fe7a35d1cefa9a1bcfb/threadpoolctl-3.5.0-py3-none-any.whl.metadata\n",
      "  Using cached threadpoolctl-3.5.0-py3-none-any.whl.metadata (13 kB)\n",
      "Requirement already satisfied: six>=1.5 in /home/amr/project/10_Acedamy/investment_analysis/.venv/lib/python3.11/site-packages (from python-dateutil>=2.8.2->pandas) (1.16.0)\n",
      "Using cached pandas-2.2.2-cp311-cp311-manylinux_2_17_x86_64.manylinux2014_x86_64.whl (13.0 MB)\n",
      "Using cached matplotlib-3.9.2-cp311-cp311-manylinux_2_17_x86_64.manylinux2014_x86_64.whl (8.3 MB)\n",
      "Using cached seaborn-0.13.2-py3-none-any.whl (294 kB)\n",
      "Using cached scikit_learn-1.5.1-cp311-cp311-manylinux_2_17_x86_64.manylinux2014_x86_64.whl (13.3 MB)\n",
      "Using cached contourpy-1.3.0-cp311-cp311-manylinux_2_17_x86_64.manylinux2014_x86_64.whl (323 kB)\n",
      "Using cached cycler-0.12.1-py3-none-any.whl (8.3 kB)\n",
      "Using cached fonttools-4.53.1-cp311-cp311-manylinux_2_17_x86_64.manylinux2014_x86_64.whl (4.9 MB)\n",
      "Using cached joblib-1.4.2-py3-none-any.whl (301 kB)\n",
      "Using cached kiwisolver-1.4.7-cp311-cp311-manylinux_2_17_x86_64.manylinux2014_x86_64.whl (1.4 MB)\n",
      "Using cached numpy-2.1.1-cp311-cp311-manylinux_2_17_x86_64.manylinux2014_x86_64.whl (16.3 MB)\n",
      "Using cached pillow-10.4.0-cp311-cp311-manylinux_2_28_x86_64.whl (4.5 MB)\n",
      "Using cached pyparsing-3.1.4-py3-none-any.whl (104 kB)\n",
      "Using cached pytz-2024.1-py2.py3-none-any.whl (505 kB)\n",
      "Using cached scipy-1.14.1-cp311-cp311-manylinux_2_17_x86_64.manylinux2014_x86_64.whl (41.2 MB)\n",
      "Using cached threadpoolctl-3.5.0-py3-none-any.whl (18 kB)\n",
      "Using cached tzdata-2024.1-py2.py3-none-any.whl (345 kB)\n",
      "Installing collected packages: pytz, tzdata, threadpoolctl, pyparsing, pillow, numpy, kiwisolver, joblib, fonttools, cycler, scipy, pandas, contourpy, scikit-learn, matplotlib, seaborn\n",
      "Successfully installed contourpy-1.3.0 cycler-0.12.1 fonttools-4.53.1 joblib-1.4.2 kiwisolver-1.4.7 matplotlib-3.9.2 numpy-2.1.1 pandas-2.2.2 pillow-10.4.0 pyparsing-3.1.4 pytz-2024.1 scikit-learn-1.5.1 scipy-1.14.1 seaborn-0.13.2 threadpoolctl-3.5.0 tzdata-2024.1\n",
      "Note: you may need to restart the kernel to use updated packages.\n"
     ]
    }
   ],
   "source": [
    "%pip install pandas matplotlib seaborn scikit-learn\n"
   ]
  },
  {
   "cell_type": "markdown",
   "metadata": {},
   "source": [
    "## Loading Data"
   ]
  },
  {
   "cell_type": "code",
   "execution_count": 9,
   "metadata": {},
   "outputs": [
    {
     "name": "stdout",
     "output_type": "stream",
     "text": [
      "Current working directory: /\n",
      "Connected to PostgreSQL database!\n",
      "      Bearer Id            Start  Start ms              End  End ms  \\\n",
      "0  1.311448e+19   4/4/2019 12:01     770.0  4/25/2019 14:35   662.0   \n",
      "1  1.311448e+19   4/9/2019 13:04     235.0   4/25/2019 8:15   606.0   \n",
      "2  1.311448e+19   4/9/2019 17:42       1.0  4/25/2019 11:58   652.0   \n",
      "3  1.311448e+19   4/10/2019 0:31     486.0   4/25/2019 7:36   171.0   \n",
      "4  1.311448e+19  4/12/2019 20:10     565.0  4/25/2019 10:40   954.0   \n",
      "\n",
      "   Dur. (ms)          IMSI  MSISDN/Number          IMEI  \\\n",
      "0  1823652.0  2.082014e+14   3.366496e+10  3.552121e+13   \n",
      "1  1365104.0  2.082019e+14   3.368185e+10  3.579401e+13   \n",
      "2  1361762.0  2.082003e+14   3.376063e+10  3.528151e+13   \n",
      "3  1321509.0  2.082014e+14   3.375034e+10  3.535661e+13   \n",
      "4  1089009.0  2.082014e+14   3.369980e+10  3.540701e+13   \n",
      "\n",
      "      Last Location Name  ...  Youtube DL (Bytes)  Youtube UL (Bytes)  \\\n",
      "0  9.16456699548519E+015  ...          15854611.0           2501332.0   \n",
      "1                L77566A  ...          20247395.0          19111729.0   \n",
      "2                D42335A  ...          19725661.0          14699576.0   \n",
      "3                T21824A  ...          21388122.0          15146643.0   \n",
      "4                D88865A  ...          15259380.0          18962873.0   \n",
      "\n",
      "   Netflix DL (Bytes)  Netflix UL (Bytes)  Gaming DL (Bytes)  \\\n",
      "0           8198936.0           9656251.0        278082303.0   \n",
      "1          18338413.0          17227132.0        608750074.0   \n",
      "2          17587794.0           6163408.0        229584621.0   \n",
      "3          13994646.0           1097942.0        799538153.0   \n",
      "4          17124581.0            415218.0        527707248.0   \n",
      "\n",
      "   Gaming UL (Bytes)  Other DL (Bytes)  Other UL (Bytes)  Total UL (Bytes)  \\\n",
      "0         14344150.0       171744450.0         8814393.0        36749741.0   \n",
      "1          1170709.0       526904238.0        15055145.0        53800391.0   \n",
      "2           395630.0       410692588.0         4215763.0        27883638.0   \n",
      "3         10849722.0       749039933.0        12797283.0        43324218.0   \n",
      "4          3529801.0       550709500.0        13910322.0        38542814.0   \n",
      "\n",
      "   Total DL (Bytes)  \n",
      "0       308879636.0  \n",
      "1       653384965.0  \n",
      "2       279807335.0  \n",
      "3       846028530.0  \n",
      "4       569138589.0  \n",
      "\n",
      "[5 rows x 55 columns]\n",
      "Connection closed.\n"
     ]
    }
   ],
   "source": [
    "import os\n",
    "import sys\n",
    "import pandas as pd\n",
    "import matplotlib.pyplot as plt\n",
    "import seaborn as sns\n",
    "\n",
    "os.chdir('..')\n",
    "print(\"Current working directory:\", os.getcwd())\n",
    "sys.path.append('/home/amr/project/10-Academy/investment_analysis')\n",
    "\n",
    "from DB_Connection.connection import PostgresConnection\n",
    "from src.utils import missing_values_table, convert_bytes_to_megabytes"
   ]
  },
  {
   "cell_type": "markdown",
   "metadata": {},
   "source": []
  },
  {
   "cell_type": "markdown",
   "metadata": {},
   "source": [
    "## Loading Data"
   ]
  },
  {
   "cell_type": "code",
   "execution_count": 10,
   "metadata": {},
   "outputs": [
    {
     "name": "stdout",
     "output_type": "stream",
     "text": [
      "Connected to PostgreSQL database!\n",
      "      Bearer Id            Start  Start ms              End  End ms  \\\n",
      "0  1.311448e+19   4/4/2019 12:01     770.0  4/25/2019 14:35   662.0   \n",
      "1  1.311448e+19   4/9/2019 13:04     235.0   4/25/2019 8:15   606.0   \n",
      "2  1.311448e+19   4/9/2019 17:42       1.0  4/25/2019 11:58   652.0   \n",
      "3  1.311448e+19   4/10/2019 0:31     486.0   4/25/2019 7:36   171.0   \n",
      "4  1.311448e+19  4/12/2019 20:10     565.0  4/25/2019 10:40   954.0   \n",
      "\n",
      "   Dur. (ms)          IMSI  MSISDN/Number          IMEI  \\\n",
      "0  1823652.0  2.082014e+14   3.366496e+10  3.552121e+13   \n",
      "1  1365104.0  2.082019e+14   3.368185e+10  3.579401e+13   \n",
      "2  1361762.0  2.082003e+14   3.376063e+10  3.528151e+13   \n",
      "3  1321509.0  2.082014e+14   3.375034e+10  3.535661e+13   \n",
      "4  1089009.0  2.082014e+14   3.369980e+10  3.540701e+13   \n",
      "\n",
      "      Last Location Name  ...  Youtube DL (Bytes)  Youtube UL (Bytes)  \\\n",
      "0  9.16456699548519E+015  ...          15854611.0           2501332.0   \n",
      "1                L77566A  ...          20247395.0          19111729.0   \n",
      "2                D42335A  ...          19725661.0          14699576.0   \n",
      "3                T21824A  ...          21388122.0          15146643.0   \n",
      "4                D88865A  ...          15259380.0          18962873.0   \n",
      "\n",
      "   Netflix DL (Bytes)  Netflix UL (Bytes)  Gaming DL (Bytes)  \\\n",
      "0           8198936.0           9656251.0        278082303.0   \n",
      "1          18338413.0          17227132.0        608750074.0   \n",
      "2          17587794.0           6163408.0        229584621.0   \n",
      "3          13994646.0           1097942.0        799538153.0   \n",
      "4          17124581.0            415218.0        527707248.0   \n",
      "\n",
      "   Gaming UL (Bytes)  Other DL (Bytes)  Other UL (Bytes)  Total UL (Bytes)  \\\n",
      "0         14344150.0       171744450.0         8814393.0        36749741.0   \n",
      "1          1170709.0       526904238.0        15055145.0        53800391.0   \n",
      "2           395630.0       410692588.0         4215763.0        27883638.0   \n",
      "3         10849722.0       749039933.0        12797283.0        43324218.0   \n",
      "4          3529801.0       550709500.0        13910322.0        38542814.0   \n",
      "\n",
      "   Total DL (Bytes)  \n",
      "0       308879636.0  \n",
      "1       653384965.0  \n",
      "2       279807335.0  \n",
      "3       846028530.0  \n",
      "4       569138589.0  \n",
      "\n",
      "[5 rows x 55 columns]\n",
      "Connection closed.\n"
     ]
    }
   ],
   "source": [
    "db = PostgresConnection(dbname=\"telecom_db\", user=\"postgres\", password=\"password\")\n",
    "db.connect()\n",
    "\n",
    "query = \"SELECT * FROM xdr_data\"\n",
    "result = db.execute_query(query)\n",
    "\n",
    "#convert the result to a pandas Data Frame\n",
    "\n",
    "df = pd.DataFrame(result, columns=[desc[0] for desc in db.cursor.description])\n",
    "\n",
    "print(df.head())\n",
    "\n",
    "db.close_connection()"
   ]
  },
  {
   "cell_type": "markdown",
   "metadata": {},
   "source": [
    "Checking for missed Values"
   ]
  },
  {
   "cell_type": "code",
   "execution_count": 11,
   "metadata": {},
   "outputs": [
    {
     "name": "stdout",
     "output_type": "stream",
     "text": [
      "Your selected dataframe has 55 columns.\n",
      "There are 41 columns that have missing values.\n",
      "Missing values in df:\n",
      "                                          Missing Values  % of Total Values  \\\n",
      "Nb of sec with 37500B < Vol UL                    130254               86.8   \n",
      "Nb of sec with 6250B < Vol UL < 37500B            111843               74.6   \n",
      "Nb of sec with 125000B < Vol DL                    97538               65.0   \n",
      "TCP UL Retrans. Vol (Bytes)                        96649               64.4   \n",
      "Nb of sec with 31250B < Vol DL < 125000B           93586               62.4   \n",
      "Nb of sec with 1250B < Vol UL < 6250B              92894               61.9   \n",
      "Nb of sec with 6250B < Vol DL < 31250B             88317               58.9   \n",
      "TCP DL Retrans. Vol (Bytes)                        88146               58.8   \n",
      "HTTP UL (Bytes)                                    81810               54.5   \n",
      "HTTP DL (Bytes)                                    81474               54.3   \n",
      "Avg RTT DL (ms)                                    27829               18.6   \n",
      "Avg RTT UL (ms)                                    27812               18.5   \n",
      "Last Location Name                                  1153                0.8   \n",
      "MSISDN/Number                                       1066                0.7   \n",
      "Bearer Id                                            991                0.7   \n",
      "Nb of sec with Vol UL < 1250B                        793                0.5   \n",
      "UL TP < 10 Kbps (%)                                  792                0.5   \n",
      "50 Kbps < UL TP < 300 Kbps (%)                       792                0.5   \n",
      "UL TP > 300 Kbps (%)                                 792                0.5   \n",
      "10 Kbps < UL TP < 50 Kbps (%)                        792                0.5   \n",
      "Nb of sec with Vol DL < 6250B                        755                0.5   \n",
      "DL TP > 1 Mbps (%)                                   754                0.5   \n",
      "50 Kbps < DL TP < 250 Kbps (%)                       754                0.5   \n",
      "250 Kbps < DL TP < 1 Mbps (%)                        754                0.5   \n",
      "DL TP < 50 Kbps (%)                                  754                0.5   \n",
      "Handset Manufacturer                                 572                0.4   \n",
      "Handset Type                                         572                0.4   \n",
      "IMEI                                                 572                0.4   \n",
      "IMSI                                                 570                0.4   \n",
      "Start                                                  1                0.0   \n",
      "Start ms                                               1                0.0   \n",
      "End                                                    1                0.0   \n",
      "End ms                                                 1                0.0   \n",
      "Dur. (ms)                                              1                0.0   \n",
      "Avg Bearer TP UL (kbps)                                1                0.0   \n",
      "Avg Bearer TP DL (kbps)                                1                0.0   \n",
      "Dur. (ms).1                                            1                0.0   \n",
      "Activity Duration UL (ms)                              1                0.0   \n",
      "Activity Duration DL (ms)                              1                0.0   \n",
      "Total UL (Bytes)                                       1                0.0   \n",
      "Total DL (Bytes)                                       1                0.0   \n",
      "\n",
      "                                            Dtype  \n",
      "Nb of sec with 37500B < Vol UL            float64  \n",
      "Nb of sec with 6250B < Vol UL < 37500B    float64  \n",
      "Nb of sec with 125000B < Vol DL           float64  \n",
      "TCP UL Retrans. Vol (Bytes)               float64  \n",
      "Nb of sec with 31250B < Vol DL < 125000B  float64  \n",
      "Nb of sec with 1250B < Vol UL < 6250B     float64  \n",
      "Nb of sec with 6250B < Vol DL < 31250B    float64  \n",
      "TCP DL Retrans. Vol (Bytes)               float64  \n",
      "HTTP UL (Bytes)                           float64  \n",
      "HTTP DL (Bytes)                           float64  \n",
      "Avg RTT DL (ms)                           float64  \n",
      "Avg RTT UL (ms)                           float64  \n",
      "Last Location Name                         object  \n",
      "MSISDN/Number                             float64  \n",
      "Bearer Id                                 float64  \n",
      "Nb of sec with Vol UL < 1250B             float64  \n",
      "UL TP < 10 Kbps (%)                       float64  \n",
      "50 Kbps < UL TP < 300 Kbps (%)            float64  \n",
      "UL TP > 300 Kbps (%)                      float64  \n",
      "10 Kbps < UL TP < 50 Kbps (%)             float64  \n",
      "Nb of sec with Vol DL < 6250B             float64  \n",
      "DL TP > 1 Mbps (%)                        float64  \n",
      "50 Kbps < DL TP < 250 Kbps (%)            float64  \n",
      "250 Kbps < DL TP < 1 Mbps (%)             float64  \n",
      "DL TP < 50 Kbps (%)                       float64  \n",
      "Handset Manufacturer                       object  \n",
      "Handset Type                               object  \n",
      "IMEI                                      float64  \n",
      "IMSI                                      float64  \n",
      "Start                                      object  \n",
      "Start ms                                  float64  \n",
      "End                                        object  \n",
      "End ms                                    float64  \n",
      "Dur. (ms)                                 float64  \n",
      "Avg Bearer TP UL (kbps)                   float64  \n",
      "Avg Bearer TP DL (kbps)                   float64  \n",
      "Dur. (ms).1                               float64  \n",
      "Activity Duration UL (ms)                 float64  \n",
      "Activity Duration DL (ms)                 float64  \n",
      "Total UL (Bytes)                          float64  \n",
      "Total DL (Bytes)                          float64  \n"
     ]
    }
   ],
   "source": [
    "missing_values_df = missing_values_table(df)\n",
    "print('Missing values in df:')\n",
    "\n",
    "print(missing_values_df)"
   ]
  },
  {
   "cell_type": "code",
   "execution_count": 12,
   "metadata": {},
   "outputs": [
    {
     "name": "stdout",
     "output_type": "stream",
     "text": [
      "<class 'pandas.core.frame.DataFrame'>\n",
      "RangeIndex: 150001 entries, 0 to 150000\n",
      "Data columns (total 55 columns):\n",
      " #   Column                                    Non-Null Count   Dtype  \n",
      "---  ------                                    --------------   -----  \n",
      " 0   Bearer Id                                 149010 non-null  float64\n",
      " 1   Start                                     150000 non-null  object \n",
      " 2   Start ms                                  150000 non-null  float64\n",
      " 3   End                                       150000 non-null  object \n",
      " 4   End ms                                    150000 non-null  float64\n",
      " 5   Dur. (ms)                                 150000 non-null  float64\n",
      " 6   IMSI                                      149431 non-null  float64\n",
      " 7   MSISDN/Number                             148935 non-null  float64\n",
      " 8   IMEI                                      149429 non-null  float64\n",
      " 9   Last Location Name                        148848 non-null  object \n",
      " 10  Avg RTT DL (ms)                           122172 non-null  float64\n",
      " 11  Avg RTT UL (ms)                           122189 non-null  float64\n",
      " 12  Avg Bearer TP DL (kbps)                   150000 non-null  float64\n",
      " 13  Avg Bearer TP UL (kbps)                   150000 non-null  float64\n",
      " 14  TCP DL Retrans. Vol (Bytes)               61855 non-null   float64\n",
      " 15  TCP UL Retrans. Vol (Bytes)               53352 non-null   float64\n",
      " 16  DL TP < 50 Kbps (%)                       149247 non-null  float64\n",
      " 17  50 Kbps < DL TP < 250 Kbps (%)            149247 non-null  float64\n",
      " 18  250 Kbps < DL TP < 1 Mbps (%)             149247 non-null  float64\n",
      " 19  DL TP > 1 Mbps (%)                        149247 non-null  float64\n",
      " 20  UL TP < 10 Kbps (%)                       149209 non-null  float64\n",
      " 21  10 Kbps < UL TP < 50 Kbps (%)             149209 non-null  float64\n",
      " 22  50 Kbps < UL TP < 300 Kbps (%)            149209 non-null  float64\n",
      " 23  UL TP > 300 Kbps (%)                      149209 non-null  float64\n",
      " 24  HTTP DL (Bytes)                           68527 non-null   float64\n",
      " 25  HTTP UL (Bytes)                           68191 non-null   float64\n",
      " 26  Activity Duration DL (ms)                 150000 non-null  float64\n",
      " 27  Activity Duration UL (ms)                 150000 non-null  float64\n",
      " 28  Dur. (ms).1                               150000 non-null  float64\n",
      " 29  Handset Manufacturer                      149429 non-null  object \n",
      " 30  Handset Type                              149429 non-null  object \n",
      " 31  Nb of sec with 125000B < Vol DL           52463 non-null   float64\n",
      " 32  Nb of sec with 1250B < Vol UL < 6250B     57107 non-null   float64\n",
      " 33  Nb of sec with 31250B < Vol DL < 125000B  56415 non-null   float64\n",
      " 34  Nb of sec with 37500B < Vol UL            19747 non-null   float64\n",
      " 35  Nb of sec with 6250B < Vol DL < 31250B    61684 non-null   float64\n",
      " 36  Nb of sec with 6250B < Vol UL < 37500B    38158 non-null   float64\n",
      " 37  Nb of sec with Vol DL < 6250B             149246 non-null  float64\n",
      " 38  Nb of sec with Vol UL < 1250B             149208 non-null  float64\n",
      " 39  Social Media DL (Bytes)                   150001 non-null  float64\n",
      " 40  Social Media UL (Bytes)                   150001 non-null  float64\n",
      " 41  Google DL (Bytes)                         150001 non-null  float64\n",
      " 42  Google UL (Bytes)                         150001 non-null  float64\n",
      " 43  Email DL (Bytes)                          150001 non-null  float64\n",
      " 44  Email UL (Bytes)                          150001 non-null  float64\n",
      " 45  Youtube DL (Bytes)                        150001 non-null  float64\n",
      " 46  Youtube UL (Bytes)                        150001 non-null  float64\n",
      " 47  Netflix DL (Bytes)                        150001 non-null  float64\n",
      " 48  Netflix UL (Bytes)                        150001 non-null  float64\n",
      " 49  Gaming DL (Bytes)                         150001 non-null  float64\n",
      " 50  Gaming UL (Bytes)                         150001 non-null  float64\n",
      " 51  Other DL (Bytes)                          150001 non-null  float64\n",
      " 52  Other UL (Bytes)                          150001 non-null  float64\n",
      " 53  Total UL (Bytes)                          150000 non-null  float64\n",
      " 54  Total DL (Bytes)                          150000 non-null  float64\n",
      "dtypes: float64(50), object(5)\n",
      "memory usage: 62.9+ MB\n"
     ]
    }
   ],
   "source": [
    "df.info()"
   ]
  },
  {
   "cell_type": "markdown",
   "metadata": {},
   "source": [
    "## Information about top handsets"
   ]
  },
  {
   "cell_type": "code",
   "execution_count": 14,
   "metadata": {},
   "outputs": [
    {
     "name": "stdout",
     "output_type": "stream",
     "text": [
      "Top 10 handsets:\n",
      "Handset Type\n",
      "Huawei B528S-23A                19752\n",
      "Apple iPhone 6S (A1688)          9419\n",
      "Apple iPhone 6 (A1586)           9023\n",
      "undefined                        8987\n",
      "Apple iPhone 7 (A1778)           6326\n",
      "Apple iPhone Se (A1723)          5187\n",
      "Apple iPhone 8 (A1905)           4993\n",
      "Apple iPhone Xr (A2105)          4568\n",
      "Samsung Galaxy S8 (Sm-G950F)     4520\n",
      "Apple iPhone X (A1901)           3813\n",
      "Name: count, dtype: int64\n"
     ]
    }
   ],
   "source": [
    "# Top 10 headers\n",
    "top_10_handsets = df['Handset Type'].value_counts().head(10)\n",
    "print('Top 10 handsets:')\n",
    "print(top_10_handsets)"
   ]
  },
  {
   "cell_type": "code",
   "execution_count": 13,
   "metadata": {},
   "outputs": [
    {
     "name": "stdout",
     "output_type": "stream",
     "text": [
      "Top 3 handset manufacturers:\n",
      "Handset Manufacturer\n",
      "Apple      59565\n",
      "Samsung    40839\n",
      "Huawei     34423\n",
      "Name: count, dtype: int64\n"
     ]
    }
   ],
   "source": [
    "#top 3 hadsets manufacturers\n",
    "top_3_manufacturers = df['Handset Manufacturer'].value_counts().head(3)\n",
    "print('Top 3 handset manufacturers:')\n",
    "print(top_3_manufacturers)"
   ]
  },
  {
   "cell_type": "code",
   "execution_count": 15,
   "metadata": {},
   "outputs": [
    {
     "name": "stdout",
     "output_type": "stream",
     "text": [
      "Top 5 handsets for Apple:\n",
      "Handset Type\n",
      "Apple iPhone 6S (A1688)    9419\n",
      "Apple iPhone 6 (A1586)     9023\n",
      "Apple iPhone 7 (A1778)     6326\n",
      "Apple iPhone Se (A1723)    5187\n",
      "Apple iPhone 8 (A1905)     4993\n",
      "Name: count, dtype: int64\n",
      "Top 5 handsets for Samsung:\n",
      "Handset Type\n",
      "Samsung Galaxy S8 (Sm-G950F)    4520\n",
      "Samsung Galaxy A5 Sm-A520F      3724\n",
      "Samsung Galaxy J5 (Sm-J530)     3696\n",
      "Samsung Galaxy J3 (Sm-J330)     3484\n",
      "Samsung Galaxy S7 (Sm-G930X)    3199\n",
      "Name: count, dtype: int64\n",
      "Top 5 handsets for Huawei:\n",
      "Handset Type\n",
      "Huawei B528S-23A                  19752\n",
      "Huawei E5180                       2079\n",
      "Huawei P20 Lite Huawei Nova 3E     2021\n",
      "Huawei P20                         1480\n",
      "Huawei Y6 2018                      997\n",
      "Name: count, dtype: int64\n"
     ]
    }
   ],
   "source": [
    "# Top 5 Handsets per Top 3 Manufacturers\n",
    "for manufacturer in top_3_manufacturers.index:\n",
    "    top_5_handsets = df[df['Handset Manufacturer'] == manufacturer]['Handset Type'].value_counts().head(5)\n",
    "    print(f'Top 5 handsets for {manufacturer}:')\n",
    "    print(top_5_handsets)"
   ]
  },
  {
   "cell_type": "markdown",
   "metadata": {},
   "source": [
    "##  Aggregate User Behavior Data"
   ]
  },
  {
   "cell_type": "code",
   "execution_count": 18,
   "metadata": {},
   "outputs": [
    {
     "name": "stdout",
     "output_type": "stream",
     "text": [
      "Aggregated user behavior data:\n",
      "           IMSI  xDR_sessions  session_duration     total_DL    total_UL  \\\n",
      "0  2.040471e+14             1          869844.0   78697597.0  60456049.0   \n",
      "1  2.040808e+14             1          877385.0  194828056.0  37295915.0   \n",
      "2  2.082001e+14             1           86019.0   31376981.0  53794658.0   \n",
      "3  2.082001e+14             1           86254.0  392918313.0  33583272.0   \n",
      "4  2.082001e+14             2          573923.0  961767023.0  71325004.0   \n",
      "\n",
      "   Social Media DL (Bytes)  Social Media UL (Bytes)  Google DL (Bytes)  \\\n",
      "0                1500145.0                  45943.0          5985089.0   \n",
      "1                 668596.0                  46628.0          8572779.0   \n",
      "2                3073697.0                  49084.0           603691.0   \n",
      "3                2542767.0                  34337.0         10699827.0   \n",
      "4                3326811.0                  99905.0          9118088.0   \n",
      "\n",
      "   Google UL (Bytes)  Email DL (Bytes)  Email UL (Bytes)  Youtube DL (Bytes)  \\\n",
      "0          3233558.0         2518425.0          812549.0          18980320.0   \n",
      "1          1865881.0          842279.0          678492.0           9839889.0   \n",
      "2          1020971.0         3076735.0          580766.0           5556563.0   \n",
      "3          3111651.0         3248863.0          606871.0          22414714.0   \n",
      "4          2547799.0         4225757.0         1338705.0           4046597.0   \n",
      "\n",
      "   Youtube UL (Bytes)  Netflix DL (Bytes)  Netflix UL (Bytes)  \\\n",
      "0          21960390.0          21621336.0           7224894.0   \n",
      "1           2120016.0          10340908.0          16251392.0   \n",
      "2          14325876.0          15305361.0          16525201.0   \n",
      "3           3242918.0          10065639.0          17720213.0   \n",
      "4           9793604.0          30748449.0          26594966.0   \n",
      "\n",
      "   Gaming DL (Bytes)  Gaming UL (Bytes)  Other DL (Bytes)  Other UL (Bytes)  \\\n",
      "0         28092282.0         14977978.0      3.891597e+08        12200737.0   \n",
      "1        164563605.0         13485133.0      4.676781e+08         2848373.0   \n",
      "2          3760934.0          5363582.0      5.000445e+08        15929178.0   \n",
      "3        343946503.0           159394.0      3.009029e+08         8707888.0   \n",
      "4        910301321.0          7383445.0      1.055869e+09        23566580.0   \n",
      "\n",
      "   total_data_volume  \n",
      "0       1.391536e+08  \n",
      "1       2.321240e+08  \n",
      "2       8.517164e+07  \n",
      "3       4.265016e+08  \n",
      "4       1.033092e+09  \n"
     ]
    }
   ],
   "source": [
    "# Strip any leading/trailing spaces from column names\n",
    "df.columns = df.columns.str.strip()\n",
    "\n",
    "# Aggregate user behavior data\n",
    "user_behavior = df.groupby('IMSI').agg({\n",
    "    'Bearer Id': 'count',  # Number of xDR sessions\n",
    "    'Dur. (ms)': 'sum',  # Session duration\n",
    "    'Total DL (Bytes)': 'sum',  # Total download data\n",
    "    'Total UL (Bytes)': 'sum',  # Total upload data\n",
    "    'Social Media DL (Bytes)': 'sum',\n",
    "    'Social Media UL (Bytes)': 'sum',\n",
    "    'Google DL (Bytes)': 'sum',\n",
    "    'Google UL (Bytes)': 'sum',\n",
    "    'Email DL (Bytes)': 'sum',\n",
    "    'Email UL (Bytes)': 'sum',\n",
    "    'Youtube DL (Bytes)': 'sum',\n",
    "    'Youtube UL (Bytes)': 'sum',\n",
    "    'Netflix DL (Bytes)': 'sum',\n",
    "    'Netflix UL (Bytes)': 'sum',\n",
    "    'Gaming DL (Bytes)': 'sum',\n",
    "    'Gaming UL (Bytes)': 'sum',\n",
    "    'Other DL (Bytes)': 'sum',\n",
    "    'Other UL (Bytes)': 'sum'\n",
    "}).reset_index()\n",
    "\n",
    "# Rename columns for clarity\n",
    "user_behavior.rename(columns={\n",
    "    'Bearer Id': 'xDR_sessions',\n",
    "    'Dur. (ms)': 'session_duration',\n",
    "    'Total DL (Bytes)': 'total_DL',\n",
    "    'Total UL (Bytes)': 'total_UL'\n",
    "}, inplace=True)\n",
    "\n",
    "# Calculate total data volume for each application\n",
    "user_behavior['total_data_volume'] = user_behavior['total_DL'] + user_behavior['total_UL']\n",
    "\n",
    "print('Aggregated user behavior data:')\n",
    "print(user_behavior.head())"
   ]
  },
  {
   "cell_type": "markdown",
   "metadata": {},
   "source": [
    "# 1.2 Exploratory Data Analysis"
   ]
  },
  {
   "cell_type": "markdown",
   "metadata": {},
   "source": [
    "1. Describe All Relevant Variables and Data Types"
   ]
  },
  {
   "cell_type": "code",
   "execution_count": 19,
   "metadata": {},
   "outputs": [
    {
     "name": "stdout",
     "output_type": "stream",
     "text": [
      "<class 'pandas.core.frame.DataFrame'>\n",
      "RangeIndex: 107265 entries, 0 to 107264\n",
      "Data columns (total 20 columns):\n",
      " #   Column                   Non-Null Count   Dtype  \n",
      "---  ------                   --------------   -----  \n",
      " 0   IMSI                     107265 non-null  float64\n",
      " 1   xDR_sessions             107265 non-null  int64  \n",
      " 2   session_duration         107265 non-null  float64\n",
      " 3   total_DL                 107265 non-null  float64\n",
      " 4   total_UL                 107265 non-null  float64\n",
      " 5   Social Media DL (Bytes)  107265 non-null  float64\n",
      " 6   Social Media UL (Bytes)  107265 non-null  float64\n",
      " 7   Google DL (Bytes)        107265 non-null  float64\n",
      " 8   Google UL (Bytes)        107265 non-null  float64\n",
      " 9   Email DL (Bytes)         107265 non-null  float64\n",
      " 10  Email UL (Bytes)         107265 non-null  float64\n",
      " 11  Youtube DL (Bytes)       107265 non-null  float64\n",
      " 12  Youtube UL (Bytes)       107265 non-null  float64\n",
      " 13  Netflix DL (Bytes)       107265 non-null  float64\n",
      " 14  Netflix UL (Bytes)       107265 non-null  float64\n",
      " 15  Gaming DL (Bytes)        107265 non-null  float64\n",
      " 16  Gaming UL (Bytes)        107265 non-null  float64\n",
      " 17  Other DL (Bytes)         107265 non-null  float64\n",
      " 18  Other UL (Bytes)         107265 non-null  float64\n",
      " 19  total_data_volume        107265 non-null  float64\n",
      "dtypes: float64(19), int64(1)\n",
      "memory usage: 16.4 MB\n",
      "None\n"
     ]
    }
   ],
   "source": [
    "# describe all relevant variables and data types\n",
    "print(user_behavior.info())"
   ]
  },
  {
   "cell_type": "markdown",
   "metadata": {},
   "source": [
    "2 Variable Transformations"
   ]
  },
  {
   "cell_type": "code",
   "execution_count": 20,
   "metadata": {},
   "outputs": [
    {
     "name": "stdout",
     "output_type": "stream",
     "text": [
      "Decile data:\n",
      "   decile_class      total_DL      total_UL    total_data\n",
      "0             0  5.007134e+12  4.507508e+11  5.457884e+12\n",
      "1             1  5.599315e+12  5.058663e+11  6.105181e+12\n",
      "2             2  6.008971e+12  5.451664e+11  6.554138e+12\n",
      "3             3  5.665632e+12  5.120978e+11  6.177730e+12\n",
      "4             4  4.649388e+12  4.209930e+11  5.070381e+12\n",
      "5             5  5.916943e+12  5.354669e+11  6.452409e+12\n",
      "6             6  5.668698e+12  5.075130e+11  6.176211e+12\n",
      "7             7  7.189124e+12  6.539729e+11  7.843097e+12\n",
      "8             8  8.557977e+12  7.728156e+11  9.330793e+12\n",
      "9             9  1.367532e+13  1.240032e+12  1.491535e+13\n"
     ]
    }
   ],
   "source": [
    "# Segment users into decile classes based on session duration\n",
    "user_behavior['decile_class'] = pd.qcut(user_behavior['session_duration'], 10, labels=False)\n",
    "\n",
    "# Compute total data (DL+UL) per decile class\n",
    "decile_data = user_behavior.groupby('decile_class').agg({\n",
    "    'total_DL': 'sum',\n",
    "    'total_UL': 'sum'\n",
    "}).reset_index()\n",
    "\n",
    "decile_data['total_data'] = decile_data['total_DL'] + decile_data['total_UL']\n",
    "\n",
    "print('Decile data:')\n",
    "print(decile_data)"
   ]
  },
  {
   "cell_type": "markdown",
   "metadata": {},
   "source": []
  },
  {
   "cell_type": "markdown",
   "metadata": {},
   "source": [
    "3.  Analyze Basic Metrics"
   ]
  },
  {
   "cell_type": "code",
   "execution_count": 21,
   "metadata": {},
   "outputs": [
    {
     "name": "stdout",
     "output_type": "stream",
     "text": [
      "               IMSI   xDR_sessions  session_duration      total_DL  \\\n",
      "count  1.072650e+05  107265.000000      1.072650e+05  1.072650e+05   \n",
      "mean   2.082016e+14       1.389092      1.459355e+05  6.333706e+08   \n",
      "std    2.534986e+10       0.809545      1.863518e+05  4.643722e+08   \n",
      "min    2.040471e+14       0.000000      7.142000e+03  8.827082e+06   \n",
      "25%    2.082010e+14       1.000000      7.041100e+04  3.148031e+08   \n",
      "50%    2.082015e+14       1.000000      1.024500e+05  5.700628e+08   \n",
      "75%    2.082018e+14       2.000000      1.727990e+05  8.070673e+08   \n",
      "max    2.140743e+14      18.000000      1.855375e+07  8.156743e+09   \n",
      "\n",
      "           total_UL  Social Media DL (Bytes)  Social Media UL (Bytes)  \\\n",
      "count  1.072650e+05             1.072650e+05            107265.000000   \n",
      "mean   5.728499e+07             2.500966e+06             45867.795898   \n",
      "std    3.564266e+07             1.887405e+06             34710.404878   \n",
      "min    2.866892e+06             1.200000e+01                 0.000000   \n",
      "25%    3.639251e+07             1.174932e+06             21596.000000   \n",
      "50%    4.678050e+07             2.264261e+06             41537.000000   \n",
      "75%    6.565842e+07             3.266100e+06             59897.000000   \n",
      "max    7.295774e+08             4.274384e+07            630942.000000   \n",
      "\n",
      "       Google DL (Bytes)  Google UL (Bytes)  Email DL (Bytes)  ...  \\\n",
      "count       1.072650e+05       1.072650e+05      1.072650e+05  ...   \n",
      "mean        8.012076e+06       2.864882e+06      2.495902e+06  ...   \n",
      "std         6.062659e+06       2.172148e+06      1.896533e+06  ...   \n",
      "min         2.070000e+02       3.000000e+00      9.700000e+01  ...   \n",
      "25%         3.799005e+06       1.340855e+06      1.183359e+06  ...   \n",
      "50%         7.253591e+06       2.592477e+06      2.264497e+06  ...   \n",
      "75%         1.042819e+07       3.742908e+06      3.249421e+06  ...   \n",
      "max         1.161065e+08       3.608540e+07      3.360721e+07  ...   \n",
      "\n",
      "       Youtube DL (Bytes)  Youtube UL (Bytes)  Netflix DL (Bytes)  \\\n",
      "count        1.072650e+05        1.072650e+05        1.072650e+05   \n",
      "mean         1.620539e+07        1.533762e+07        1.619640e+07   \n",
      "std          1.231925e+07        1.159325e+07        1.231431e+07   \n",
      "min          5.300000e+01        1.060000e+02        4.200000e+01   \n",
      "25%          7.641030e+06        7.243533e+06        7.585021e+06   \n",
      "50%          1.459524e+07        1.386517e+07        1.463060e+07   \n",
      "75%          2.111913e+07        1.997003e+07        2.112594e+07   \n",
      "max          2.378830e+08        2.150757e+08        1.994792e+08   \n",
      "\n",
      "       Netflix UL (Bytes)  Gaming DL (Bytes)  Gaming UL (Bytes)  \\\n",
      "count        1.072650e+05       1.072650e+05       1.072650e+05   \n",
      "mean         1.532539e+07       5.879599e+08       1.154806e+07   \n",
      "std          1.160622e+07       4.438515e+08       8.729595e+06   \n",
      "min          3.500000e+01       2.516000e+03       5.900000e+01   \n",
      "25%          7.204045e+06       2.792370e+08       5.443850e+06   \n",
      "50%          1.387452e+07       5.322029e+08       1.044181e+07   \n",
      "75%          2.000536e+07       7.667156e+08       1.507696e+07   \n",
      "max          2.032419e+08       7.622035e+09       1.547897e+08   \n",
      "\n",
      "       Other DL (Bytes)  Other UL (Bytes)  total_data_volume   decile_class  \n",
      "count      1.072650e+05      1.072650e+05       1.072650e+05  107265.000000  \n",
      "mean       5.866904e+08      1.151203e+07       6.906556e+08       4.484771  \n",
      "std        4.436881e+08      8.703473e+06       4.908637e+08       2.877560  \n",
      "min        3.290000e+03      1.560000e+02       3.324901e+07       0.000000  \n",
      "25%        2.766588e+08      5.459190e+06       3.584885e+08       2.000000  \n",
      "50%        5.296610e+08      1.037383e+07       6.176283e+08       4.000000  \n",
      "75%        7.650704e+08      1.502281e+07       8.571685e+08       7.000000  \n",
      "max        8.025477e+09      1.529305e+08       8.846226e+09       9.000000  \n",
      "\n",
      "[8 rows x 21 columns]\n"
     ]
    }
   ],
   "source": [
    "# Analyze Basic Metrics\n",
    "print(user_behavior.describe())"
   ]
  },
  {
   "cell_type": "markdown",
   "metadata": {},
   "source": [
    "4. Non-Graphical Univariate Analysis"
   ]
  },
  {
   "cell_type": "code",
   "execution_count": 22,
   "metadata": {},
   "outputs": [
    {
     "name": "stdout",
     "output_type": "stream",
     "text": [
      "Dispersion parameters:\n",
      "              IMSI  xDR_sessions  session_duration      total_DL  \\\n",
      "mean  2.082016e+14      1.389092      1.459355e+05  6.333706e+08   \n",
      "std   2.534986e+10      0.809545      1.863518e+05  4.643722e+08   \n",
      "min   2.040471e+14      0.000000      7.142000e+03  8.827082e+06   \n",
      "25%   2.082010e+14      1.000000      7.041100e+04  3.148031e+08   \n",
      "50%   2.082015e+14      1.000000      1.024500e+05  5.700628e+08   \n",
      "75%   2.082018e+14      2.000000      1.727990e+05  8.070673e+08   \n",
      "max   2.140743e+14     18.000000      1.855375e+07  8.156743e+09   \n",
      "\n",
      "          total_UL  Social Media DL (Bytes)  Social Media UL (Bytes)  \\\n",
      "mean  5.728499e+07             2.500966e+06             45867.795898   \n",
      "std   3.564266e+07             1.887405e+06             34710.404878   \n",
      "min   2.866892e+06             1.200000e+01                 0.000000   \n",
      "25%   3.639251e+07             1.174932e+06             21596.000000   \n",
      "50%   4.678050e+07             2.264261e+06             41537.000000   \n",
      "75%   6.565842e+07             3.266100e+06             59897.000000   \n",
      "max   7.295774e+08             4.274384e+07            630942.000000   \n",
      "\n",
      "      Google DL (Bytes)  Google UL (Bytes)  Email DL (Bytes)  ...  \\\n",
      "mean       8.012076e+06       2.864882e+06      2.495902e+06  ...   \n",
      "std        6.062659e+06       2.172148e+06      1.896533e+06  ...   \n",
      "min        2.070000e+02       3.000000e+00      9.700000e+01  ...   \n",
      "25%        3.799005e+06       1.340855e+06      1.183359e+06  ...   \n",
      "50%        7.253591e+06       2.592477e+06      2.264497e+06  ...   \n",
      "75%        1.042819e+07       3.742908e+06      3.249421e+06  ...   \n",
      "max        1.161065e+08       3.608540e+07      3.360721e+07  ...   \n",
      "\n",
      "      Youtube DL (Bytes)  Youtube UL (Bytes)  Netflix DL (Bytes)  \\\n",
      "mean        1.620539e+07        1.533762e+07        1.619640e+07   \n",
      "std         1.231925e+07        1.159325e+07        1.231431e+07   \n",
      "min         5.300000e+01        1.060000e+02        4.200000e+01   \n",
      "25%         7.641030e+06        7.243533e+06        7.585021e+06   \n",
      "50%         1.459524e+07        1.386517e+07        1.463060e+07   \n",
      "75%         2.111913e+07        1.997003e+07        2.112594e+07   \n",
      "max         2.378830e+08        2.150757e+08        1.994792e+08   \n",
      "\n",
      "      Netflix UL (Bytes)  Gaming DL (Bytes)  Gaming UL (Bytes)  \\\n",
      "mean        1.532539e+07       5.879599e+08       1.154806e+07   \n",
      "std         1.160622e+07       4.438515e+08       8.729595e+06   \n",
      "min         3.500000e+01       2.516000e+03       5.900000e+01   \n",
      "25%         7.204045e+06       2.792370e+08       5.443850e+06   \n",
      "50%         1.387452e+07       5.322029e+08       1.044181e+07   \n",
      "75%         2.000536e+07       7.667156e+08       1.507696e+07   \n",
      "max         2.032419e+08       7.622035e+09       1.547897e+08   \n",
      "\n",
      "      Other DL (Bytes)  Other UL (Bytes)  total_data_volume  decile_class  \n",
      "mean      5.866904e+08      1.151203e+07       6.906556e+08      4.484771  \n",
      "std       4.436881e+08      8.703473e+06       4.908637e+08      2.877560  \n",
      "min       3.290000e+03      1.560000e+02       3.324901e+07      0.000000  \n",
      "25%       2.766588e+08      5.459190e+06       3.584885e+08      2.000000  \n",
      "50%       5.296610e+08      1.037383e+07       6.176283e+08      4.000000  \n",
      "75%       7.650704e+08      1.502281e+07       8.571685e+08      7.000000  \n",
      "max       8.025477e+09      1.529305e+08       8.846226e+09      9.000000  \n",
      "\n",
      "[7 rows x 21 columns]\n"
     ]
    }
   ],
   "source": [
    "# Non-Graphical Univariate Analysis\n",
    "dispersion_params = user_behavior.describe().loc[['mean', 'std', 'min', '25%', '50%', '75%', 'max']]\n",
    "print('Dispersion parameters:')\n",
    "print(dispersion_params)"
   ]
  },
  {
   "cell_type": "markdown",
   "metadata": {},
   "source": [
    "5. Graphical Univariate Analysis"
   ]
  },
  {
   "cell_type": "code",
   "execution_count": 23,
   "metadata": {},
   "outputs": [
    {
     "data": {
      "image/png": "[encoded data removed]",
      "text/plain": [
       "<Figure size 640x480 with 1 Axes>"
      ]
     },
     "metadata": {},
     "output_type": "display_data"
    },
    {
     "data": {
      "image/png": "[encoded data removed]",
      "text/plain": [
       "<Figure size 640x480 with 1 Axes>"
      ]
     },
     "metadata": {},
     "output_type": "display_data"
    }
   ],
   "source": [
    "\n",
    "# Distribution of session duration\n",
    "sns.histplot(user_behavior['session_duration'])\n",
    "plt.title('Distribution of Session Duration')\n",
    "plt.show()\n",
    "\n",
    "# Distribution of total data volume\n",
    "sns.histplot(user_behavior['total_data_volume'])\n",
    "plt.title('Distribution of Total Data Volume')\n",
    "plt.show()"
   ]
  },
  {
   "cell_type": "markdown",
   "metadata": {},
   "source": [
    "6. Bivariate Analysis"
   ]
  },
  {
   "cell_type": "code",
   "execution_count": 24,
   "metadata": {},
   "outputs": [
    {
     "data": {
      "image/png": "[encoded data removed]",
      "text/plain": [
       "<Figure size 640x480 with 1 Axes>"
      ]
     },
     "metadata": {},
     "output_type": "display_data"
    }
   ],
   "source": [
    "# Explore the relationship between each application and the total DL+UL data.\n",
    "sns.scatterplot(x='total_DL', y='total_UL', data=user_behavior)\n",
    "plt.title('Total DL vs Total UL')\n",
    "plt.show()"
   ]
  },
  {
   "cell_type": "markdown",
   "metadata": {},
   "source": [
    "7. Correlation Analysis"
   ]
  },
  {
   "cell_type": "code",
   "execution_count": 25,
   "metadata": {},
   "outputs": [
    {
     "name": "stdout",
     "output_type": "stream",
     "text": [
      "Correlation matrix:\n",
      "                         Social Media DL (Bytes)  Google DL (Bytes)  \\\n",
      "Social Media DL (Bytes)                 1.000000           0.585166   \n",
      "Google DL (Bytes)                       0.585166           1.000000   \n",
      "Email DL (Bytes)                        0.585501           0.586744   \n",
      "Youtube DL (Bytes)                      0.582765           0.586121   \n",
      "Netflix DL (Bytes)                      0.583639           0.584899   \n",
      "Gaming DL (Bytes)                       0.580892           0.583371   \n",
      "Other DL (Bytes)                        0.582819           0.584492   \n",
      "\n",
      "                         Email DL (Bytes)  Youtube DL (Bytes)  \\\n",
      "Social Media DL (Bytes)          0.585501            0.582765   \n",
      "Google DL (Bytes)                0.586744            0.586121   \n",
      "Email DL (Bytes)                 1.000000            0.585834   \n",
      "Youtube DL (Bytes)               0.585834            1.000000   \n",
      "Netflix DL (Bytes)               0.583361            0.585451   \n",
      "Gaming DL (Bytes)                0.578020            0.581172   \n",
      "Other DL (Bytes)                 0.581365            0.584657   \n",
      "\n",
      "                         Netflix DL (Bytes)  Gaming DL (Bytes)  \\\n",
      "Social Media DL (Bytes)            0.583639           0.580892   \n",
      "Google DL (Bytes)                  0.584899           0.583371   \n",
      "Email DL (Bytes)                   0.583361           0.578020   \n",
      "Youtube DL (Bytes)                 0.585451           0.581172   \n",
      "Netflix DL (Bytes)                 1.000000           0.581438   \n",
      "Gaming DL (Bytes)                  0.581438           1.000000   \n",
      "Other DL (Bytes)                   0.578250           0.577170   \n",
      "\n",
      "                         Other DL (Bytes)  \n",
      "Social Media DL (Bytes)          0.582819  \n",
      "Google DL (Bytes)                0.584492  \n",
      "Email DL (Bytes)                 0.581365  \n",
      "Youtube DL (Bytes)               0.584657  \n",
      "Netflix DL (Bytes)               0.578250  \n",
      "Gaming DL (Bytes)                0.577170  \n",
      "Other DL (Bytes)                 1.000000  \n"
     ]
    }
   ],
   "source": [
    "# Compute a correlation matrix for the specified variables.\n",
    "correlation_matrix = user_behavior[['Social Media DL (Bytes)', 'Google DL (Bytes)', 'Email DL (Bytes)', 'Youtube DL (Bytes)', 'Netflix DL (Bytes)', 'Gaming DL (Bytes)', 'Other DL (Bytes)']].corr()\n",
    "print('Correlation matrix:')\n",
    "print(correlation_matrix)"
   ]
  },
  {
   "cell_type": "markdown",
   "metadata": {},
   "source": [
    "8.Dimensionality Reduction"
   ]
  },
  {
   "cell_type": "code",
   "execution_count": 26,
   "metadata": {},
   "outputs": [
    {
     "name": "stdout",
     "output_type": "stream",
     "text": [
      "PCA result:\n",
      "[[-5.35412674e+08  2.56040209e+08]\n",
      " [-3.83697904e+08  2.15109696e+08]\n",
      " [-4.74574996e+08  3.51670420e+08]\n",
      " ...\n",
      " [-3.26299170e+08  1.30334236e+08]\n",
      " [ 1.25432420e+08 -1.36293358e+08]\n",
      " [-2.26038883e+07 -5.23251148e+07]]\n"
     ]
    }
   ],
   "source": [
    "# Perform a principal component analysis (PCA) to reduce the dimensions of your data.\n",
    "from sklearn.decomposition import PCA\n",
    "pca = PCA(n_components=2)\n",
    "pca_result = pca.fit_transform(user_behavior[['Social Media DL (Bytes)', 'Google DL (Bytes)', 'Email DL (Bytes)', 'Youtube DL (Bytes)', 'Netflix DL (Bytes)', 'Gaming DL (Bytes)', 'Other DL (Bytes)']])\n",
    "print('PCA result:')\n",
    "print(pca_result)"
   ]
  }
 ],
 "metadata": {
  "kernelspec": {
   "display_name": ".venv",
   "language": "python",
   "name": "python3"
  },
  "language_info": {
   "codemirror_mode": {
    "name": "ipython",
    "version": 3
   },
   "file_extension": ".py",
   "mimetype": "text/x-python",
   "name": "python",
   "nbconvert_exporter": "python",
   "pygments_lexer": "ipython3",
   "version": "3.11.6"
  }
 },
 "nbformat": 4,
 "nbformat_minor": 2
}
